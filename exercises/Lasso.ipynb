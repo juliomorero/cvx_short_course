{
 "cells": [
  {
   "cell_type": "markdown",
   "metadata": {
    "pycharm": {
     "name": "#%% md\n"
    }
   },
   "source": [
    "# LASSO\n",
    "\n",
    "We wish to recover a sparse vector $x \\in \\mathbf{R}^n$ from measurements $y \\in \\mathbf{R}^m$. Our measurement model tells us that\n",
    "\n",
    "$$\n",
    "y = Ax + v,\n",
    "$$\n",
    "\n",
    "where $A \\in \\mathbf{R}^{m \\times n}$ is a known matrix and $v \\in \\mathbf{R}^m$ is unknown measurement error. The entries of $v$ are drawn IID from the distribution $\\mathcal{N}(0, \\sigma^2)$.\n",
    "\n",
    "We can first try to recover $x$ by solving the optimization problem\n",
    "\n",
    "\\begin{array}{ll} \\text{minimize} & ||Ax - y||^2_2 + \\gamma ||x||^2_2.\\\\\n",
    "\\end{array}\n",
    "\n",
    "This problem is called ridge regression.\n",
    "\n",
    "The code below defines $n$, $m$, $A$, $x$, and $y$. Use CVXPY to estimate $x$ from $y$ using ridge regression. Try multiple values of $\\gamma$. Use the plotting code to compare the estimated $x$ with the true $x$.\n",
    "\n",
    "A more successful approach is to solve the LASSO problem\n",
    "\n",
    "\\begin{array}{ll} \\text{minimize} & ||Ax - y||^2_2 + \\gamma \\|x\\|_1.\\\\\n",
    "\\end{array}\n",
    "\n",
    "How many measurements $m$ are needed to find an accurate $x$ with ridge regression? How about with the LASSO?\n"
   ]
  },
  {
   "cell_type": "code",
   "execution_count": null,
   "metadata": {
    "collapsed": false,
    "pycharm": {
     "name": "#%%\n"
    }
   },
   "outputs": [],
   "source": [
    "# Ridge regression vs. LASSO to estimate sparse x.\n",
    "import numpy as np\n",
    "import scipy.sparse as sp\n",
    "\n",
    "np.random.seed(1)\n",
    "\n",
    "n = 200\n",
    "m = 50\n",
    "true_x = 100 * sp.rand(n, 1, 0.1).todense()\n",
    "A = np.random.randn(m, n)\n",
    "sigma = 1\n",
    "v = np.random.normal(0, sigma, (m, 1))\n",
    "y = A * true_x + v\n"
   ]
  },
  {
   "cell_type": "code",
   "execution_count": null,
   "metadata": {
    "collapsed": false,
    "pycharm": {
     "name": "#%%\n"
    }
   },
   "outputs": [],
   "source": [
    "import cvxpy as cp\n",
    "\n",
    "# Construct the problem.\n",
    "x = cp.Variable((n, 1))\n",
    "# TODO: your code here\n",
    "\n",
    "# Ridge regression\n",
    "ridge = []\n",
    "lasso = []\n",
    "for gamma in np.arange(0, 1, 0.1):\n",
    "    # gamma = 0.5\n",
    "    objective = cp.Minimize(\n",
    "        cp.square(cp.norm(A @ x - y, p=2)) + gamma * cp.square(cp.norm(x, p=2))\n",
    "    )\n",
    "    prob = cp.Problem(objective)\n",
    "    prob.solve()\n",
    "    ridge.append(x.value)\n",
    "\n",
    "# Lasso\n",
    "for gamma in np.arange(0, 1, 0.1):\n",
    "    # gamma = 0.5\n",
    "    objective = cp.Minimize(cp.square(cp.norm(A @ x - y, p=2)) + gamma * cp.norm(x, p=1))\n",
    "    prob = cp.Problem(objective)\n",
    "    prob.solve()\n",
    "    print(gamma)\n",
    "    lasso.append(x.value)\n",
    "\n",
    "for i in range(len(ridge)):\n",
    "    print(np.linalg.norm(true_x - ridge[i]), np.linalg.norm(true_x - lasso[i]))"
   ]
  },
  {
   "cell_type": "code",
   "execution_count": null,
   "metadata": {},
   "outputs": [],
   "source": [
    "x.value"
   ]
  },
  {
   "cell_type": "code",
   "execution_count": null,
   "metadata": {},
   "outputs": [],
   "source": [
    "np.linalg.norm(true_x - x.value)"
   ]
  },
  {
   "cell_type": "code",
   "execution_count": null,
   "metadata": {},
   "outputs": [],
   "source": [
    "np.sqrt(sum(np.power((true_x - x.value), 2)))"
   ]
  },
  {
   "cell_type": "code",
   "execution_count": null,
   "metadata": {},
   "outputs": [],
   "source": [
    "sum(np.power((true_x - x.value), 2)) / len(true_x)"
   ]
  },
  {
   "cell_type": "code",
   "execution_count": null,
   "metadata": {
    "collapsed": false,
    "pycharm": {
     "name": "#%%\n"
    }
   },
   "outputs": [],
   "source": [
    "# Plot estimate of x against true x.\n",
    "import matplotlib.pyplot as plt\n",
    "plt.plot(range(n), true_x, label=\"true x\")\n",
    "plt.plot(range(n), x.value, label=\"estimated x\")\n",
    "plt.plot(range(n), np.abs(true_x - x.value), label=\"error\")\n",
    "plt.legend(loc=\"upper right\")\n",
    "plt.show()\n"
   ]
  },
  {
   "cell_type": "code",
   "execution_count": null,
   "metadata": {},
   "outputs": [],
   "source": [
    "# Plot estimate of x against true x.\n",
    "import matplotlib.pyplot as plt\n",
    "\n",
    "plt.plot(range(n), true_x, label=\"true x\")\n",
    "plt.plot(range(n), x.value, label=\"estimated x\")\n",
    "plt.plot(range(n), np.abs(true_x - x.value), label=\"error\")\n",
    "plt.legend(loc=\"upper right\")\n",
    "plt.show()\n"
   ]
  },
  {
   "cell_type": "code",
   "execution_count": null,
   "metadata": {},
   "outputs": [],
   "source": [
    "import cvxpy as cp\n",
    "\n",
    "np.random.seed(1)\n",
    "\n",
    "ridge = []\n",
    "lasso = []\n",
    "for m in range(1100, 1500, 50):\n",
    "    n = 200\n",
    "    true_x = 100 * sp.rand(n, 1, 0.1).todense()\n",
    "    A = np.random.randn(m, n)\n",
    "    sigma = 1\n",
    "    v = np.random.normal(0, sigma, (m, 1))\n",
    "    y = A * true_x + v\n",
    "\n",
    "    # Construct the problem.\n",
    "    x = cp.Variable((n, 1))\n",
    "    gamma = 0.9\n",
    "\n",
    "    # Ridge regression\n",
    "    objective = cp.Minimize(\n",
    "        cp.square(cp.norm(A @ x - y, p=2)) + gamma * cp.square(cp.norm(x, p=2))\n",
    "    )\n",
    "    prob = cp.Problem(objective)\n",
    "    prob.solve()\n",
    "    current_ridge = np.linalg.norm(true_x - x.value)\n",
    "    ridge.append(current_ridge)\n",
    "\n",
    "    # Lasso\n",
    "    objective = cp.Minimize(\n",
    "        cp.square(cp.norm(A @ x - y, p=2)) + gamma * cp.norm(x, p=1)\n",
    "    )\n",
    "    prob = cp.Problem(objective)\n",
    "    prob.solve()\n",
    "    current_lasso = np.linalg.norm(true_x - x.value)\n",
    "    lasso.append(current_lasso)\n",
    "\n",
    "    print(m, f\"{current_ridge:.4f}\", f\"{current_lasso:.4f}\")\n"
   ]
  }
 ],
 "metadata": {
  "kernelspec": {
   "display_name": "Python 3.9.10 ('venv': venv)",
   "language": "python",
   "name": "python3"
  },
  "language_info": {
   "codemirror_mode": {
    "name": "ipython",
    "version": 3
   },
   "file_extension": ".py",
   "mimetype": "text/x-python",
   "name": "python",
   "nbconvert_exporter": "python",
   "pygments_lexer": "ipython3",
   "version": "3.9.10"
  },
  "vscode": {
   "interpreter": {
    "hash": "1436a5e751a03fb46c79eac04104cc9dfc13f3b61de966460d2237ee72309f86"
   }
  }
 },
 "nbformat": 4,
 "nbformat_minor": 1
}
