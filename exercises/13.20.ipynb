{
 "cells": [
  {
   "cell_type": "markdown",
   "metadata": {
    "pycharm": {
     "name": "#%% md\n"
    }
   },
   "source": [
    "# Risk budget allocation."
   ]
  },
  {
   "cell_type": "markdown",
   "metadata": {
    "pycharm": {
     "name": "#%% md\n"
    }
   },
   "source": [
    "Suppose an amount $x_i>0$ is invested in $n$ assets, labeled $i=1,..., n$,\n",
    "with asset return covariance matrix $\\Sigma \\in \\mathcal{S}_{++}^n$.\n",
    "We define the *risk* of the investments as the standard deviation\n",
    "of the total return, $R(x) = (x^T\\Sigma x)^{1/2}$.\n",
    "\n",
    "We define the (relative) *risk contribution* of asset $i$\n",
    "(in the portfolio $x$) as\n",
    "$$\n",
    "\\rho_i = \\frac{\\partial \\log R(x)}{\\partial \\log x_i} =\n",
    "\\frac{\\partial R(x)}{R(x)} \\frac{x_i}{\\partial x_i}, \\quad i=1, \\ldots, n.\n",
    "$$\n",
    "Thus $\\rho_i$ gives the fractional increase in risk per fractional increase\n",
    "in investment $i$.\n",
    "We can express the risk contributions as\n",
    "$$\n",
    "\\rho_i = \\frac{x_i (\\Sigma x)_i} {x^T\\Sigma x}, \\quad i=1, \\ldots, n,\n",
    "$$\n",
    "from which we see that $\\sum_{i=1}^n \\rho_i = 1$.\n",
    "For general $x$, we can have $\\rho_i <0$, which means that a small increase\n",
    "in investment $i$ decreases the risk.\n",
    "Desirable investment choices have $\\rho_i>0$, in which case we can\n",
    "interpret $\\rho_i$ as the fraction of the total risk contributed by\n",
    "the investment in asset $i$.\n",
    "Note that the risk contributions are homogeneous of degree zero, i.e.,\n",
    "scaling $x$ by a positive constant does not affect $\\rho_i$.\n",
    "\n",
    "In the *risk budget allocation problem*, we are given $\\Sigma$ and a\n",
    "set of desired risk contributions $\\rho_i^\\mathrm{des}>0$ with\n",
    "$\\bf{1}^T \\rho^\\mathrm{des}=1$; the goal is to find an investment mix\n",
    "$x\\succ 0$, $\\bf{1}^Tx =1$, with these risk contributions.\n",
    "When $\\rho^\\mathrm{des} = (1/n)\\bf{1}$, the problem is to find an\n",
    "investment mix that achieves so-called *risk parity*."
   ]
  },
  {
   "cell_type": "markdown",
   "metadata": {
    "pycharm": {
     "name": "#%% md\n"
    }
   },
   "source": [
    "## (a)\n",
    "\n",
    "Explain how to solve the risk budget allocation problem using convex\n",
    "optimization.\n",
    "\n",
    "*Hint.*\n",
    "Minimize $(1/2)x^T\\Sigma x - \\sum_{i=1}^n \\rho_i^\\mathrm{des} \\log x_i$."
   ]
  },
  {
   "cell_type": "markdown",
   "metadata": {},
   "source": [
    "The `risk budget allocation problem` is to find a budget $x$ that satisfies the constraints (it doesn't specify any min or max for x).\n",
    "\n",
    "By minimizing the provided function, we find an x that satisfies the relative risk contributions $\\rho_i$ but not necessarily its sum is 1.\n",
    "\n",
    "As the risk contributions are homogeneous, we can scale $x$ to meet both requirements."
   ]
  },
  {
   "cell_type": "markdown",
   "metadata": {
    "pycharm": {
     "name": "#%% md\n"
    }
   },
   "source": [
    "## (b)\n",
    "\n",
    "Find the investment mix that achieves risk parity for the\n",
    "return covariance matrix $\\Sigma$ below."
   ]
  },
  {
   "cell_type": "code",
   "execution_count": null,
   "metadata": {
    "pycharm": {
     "name": "#%%\n"
    }
   },
   "outputs": [],
   "source": [
    "import numpy as np\n",
    "import cvxpy as cp\n",
    "\n",
    "Sigma = np.array(\n",
    "    np.matrix(\n",
    "        \"\"\"6.1  2.9 -0.8  0.1;\n",
    "           2.9  4.3 -0.3  0.9;\n",
    "          -0.8 -0.3  1.2 -0.7;\n",
    "           0.1  0.9 -0.7  2.3\"\"\"\n",
    "    )\n",
    ")\n",
    "rho = np.ones(4) / 4\n",
    "\n",
    "x = cp.Variable(4)\n",
    "\n",
    "# TODO: your code here\n",
    "cp.Problem(cp.Minimize(0.5 * cp.quad_form(x, Sigma) - cp.log(cp.geo_mean(x)))).solve()\n",
    "\n",
    "x_hat = x / sum(x)\n",
    "\n",
    "# verify risk parity\n",
    "print((cp.multiply(x_hat, Sigma @ x_hat) / cp.quad_form(x_hat, Sigma)).value)\n",
    "\n",
    "# compare with uniform distribution\n",
    "u = np.ones(4)/4\n",
    "print(u * (Sigma @ u) / cp.quad_form(u, Sigma).value)\n",
    "\n",
    "x_hat.value"
   ]
  },
  {
   "cell_type": "markdown",
   "metadata": {},
   "source": [
    "Derivation of why `geo_mean`\n",
    "\n",
    "$$\\sum_{i=1}^n \\rho_i^\\mathrm{des} \\log x_i$$\n",
    "\n",
    "$$\\sum_{i=1}^n \\log x_i^{\\rho_i^\\mathrm{des}}$$\n",
    "\n",
    "$$\\log \\prod_{i=1}^n x_i^{\\rho_i^\\mathrm{des}}$$\n",
    "\n",
    "$$\\log \\prod_{i=1}^n x_i^{\\frac{1}{n}}$$"
   ]
  },
  {
   "cell_type": "markdown",
   "metadata": {},
   "source": [
    "Full derivation of $\\rho_i$\n",
    "$$\n",
    "\\rho_i = \\frac{\\partial \\log R(x)}{\\partial \\log x_i} =\n",
    "\\frac{\\partial R(x)}{R(x)} \\frac{x_i}{\\partial x_i} = \\frac{x_i (\\Sigma x)_i} {x^T\\Sigma x}, \\quad i=1, \\ldots, n.\n",
    "$$\n",
    "\n",
    "$\\partial R(x) = \\frac{1}{2} * \\frac{1}{(x^T\\Sigma x)^{1/2}} * \\partial (x^T\\Sigma x)$\n",
    "\n",
    "$\\partial (x^T\\Sigma x) = (\\Sigma + \\Sigma^T)x = 2\\Sigma x$ because $\\Sigma$ is symmetric\n",
    "[ref](https://math.stackexchange.com/questions/3222371/derivative-of-a-quadratic-form-how-to-derive-it)\n",
    "\n",
    "from which we see that $\\sum_{i=1}^n \\rho_i = 1$."
   ]
  }
 ],
 "metadata": {
  "kernelspec": {
   "display_name": "Python 3.9.10 ('venv': venv)",
   "language": "python",
   "name": "python3"
  },
  "language_info": {
   "codemirror_mode": {
    "name": "ipython",
    "version": 3
   },
   "file_extension": ".py",
   "mimetype": "text/x-python",
   "name": "python",
   "nbconvert_exporter": "python",
   "pygments_lexer": "ipython3",
   "version": "3.9.10"
  },
  "vscode": {
   "interpreter": {
    "hash": "290757e21fec9bf29b9094cc6c4ade150c814607d0328de78853b03babf51af7"
   }
  }
 },
 "nbformat": 4,
 "nbformat_minor": 1
}
