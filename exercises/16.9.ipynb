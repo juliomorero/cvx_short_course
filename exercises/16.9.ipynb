{
 "cells": [
  {
   "cell_type": "markdown",
   "metadata": {
    "pycharm": {
     "name": "#%% md\n"
    }
   },
   "source": [
    "# Energy storage trade-offs\n",
    "We consider the use of a storage device (say, a battery) to reduce the total cost of electricity consumed over one day. We divide the day into $T$ time periods, and let $p_t$ denote the (positive, time-varying) electricity price, and $u_t$ denote the (nonnegative) usage or\n",
    "consumption, in period $t$, for $t = 1,\\ldots, T$. Without the use of a battery, the total cost is $p^Tu$.\n",
    "Let $q_t$ denote the (nonnegative) energy stored in the battery in period $t$. For simplicity, we neglect\n",
    "energy loss (although this is easily handled as well), so we have $q_{t+1} = q_t + c_t$, $t = 1, \\ldots, T − 1$,\n",
    "where $c_t$\n",
    "is the charging of the battery in period $t$; $c_t < 0$ means the battery is discharged. We will\n",
    "require that $q_1 = q_T + c_T$, i.e., we finish with the same battery charge that we start with. With\n",
    "the battery operating, the net consumption in period $t$ is $u_t + c_t$\n",
    "; we require this to be nonnegative\n",
    "(i.e., we do not pump power back into the grid). The total cost is then $p^T(u + c)$.\n",
    "The battery is characterized by three parameters: The capacity $Q$, where $q_t \\leq Q$; the maximum\n",
    "charge rate $C$, where $c_t \\leq C$; and the maximum discharge rate $D$, where $c_t \\geq −D$. (The parameters $Q$, $C$, and $D$ are nonnegative.)"
   ]
  },
  {
   "cell_type": "markdown",
   "metadata": {
    "pycharm": {
     "name": "#%% md\n"
    }
   },
   "source": [
    "## (a) \n",
    "Explain how to find the charging profile $c \\in \\mathbf{R}^T$\n",
    "(and associated stored energy profile $q \\in \\mathbf{R}^T$)\n",
    "that minimizes the total cost, subject to the constraints."
   ]
  },
  {
   "cell_type": "markdown",
   "metadata": {},
   "source": [
    "$$\n",
    "    \\begin{array}{ll}\n",
    "    \\text{minimize}   & p^T(u+c) \\\\\n",
    "    \\text{subject to}\n",
    "    & q_{1} = q_T + c_T\\\\\n",
    "    & q_{t+1} = q_t + c_t & t=1,\\ldots,T-1\\\\\n",
    "    & u_t + c_t \\geq 0 & t=1,\\ldots,T\\\\\n",
    "    & 0 \\leq q_t \\leq Q & t=1,\\ldots,T\\\\\n",
    "    & -D \\leq c_t \\leq C & t=1,\\ldots,T\\\\\n",
    "    \\end{array}\n",
    "$$"
   ]
  },
  {
   "cell_type": "markdown",
   "metadata": {
    "pycharm": {
     "name": "#%% md\n"
    }
   },
   "source": [
    "## (b)\n",
    "\n",
    "Solve the problem instance with data $p$ and $u$, $Q = 35$,\n",
    "and $C = D = 3$. Plot $u_t$, $p_t$, $c_t$, and $q_t$ versus $t$."
   ]
  },
  {
   "cell_type": "code",
   "execution_count": null,
   "metadata": {
    "pycharm": {
     "name": "#%%\n"
    }
   },
   "outputs": [],
   "source": [
    "# Here we plot the demands u and prices p.\n",
    "import numpy as np\n",
    "import matplotlib.pyplot as plt\n",
    "\n",
    "np.random.seed(1)\n",
    "T = 96\n",
    "t = np.linspace(1, T, num=T).reshape(T, 1)\n",
    "p = np.exp(-np.cos((t - 15) * 2 * np.pi / T) + 0.01 * np.random.randn(T, 1))\n",
    "u = 2 * np.exp(\n",
    "    -0.6 * np.cos((t + 40) * np.pi / T)\n",
    "    - 0.7 * np.cos(t * 4 * np.pi / T)\n",
    "    + 0.01 * np.random.randn(T, 1)\n",
    ")\n",
    "p = p\n",
    "u = u\n",
    "plt.figure(1)\n",
    "plt.plot(t / 4, p, \"g\", label=r\"$p$\")\n",
    "plt.plot(t / 4, u, \"r\", label=r\"$u$\")\n",
    "plt.ylabel(\"$\")\n",
    "plt.xlabel(\"t\")\n",
    "plt.legend()\n",
    "plt.show()"
   ]
  },
  {
   "cell_type": "code",
   "execution_count": null,
   "metadata": {
    "pycharm": {
     "name": "#%%\n"
    }
   },
   "outputs": [],
   "source": [
    "# Solve for the minimum total cost.\n",
    "import cvxpy as cp\n",
    "\n",
    "Q = 35\n",
    "C, D = 5, 5\n",
    "q = cp.Variable(T)\n",
    "c = cp.Variable(T)\n",
    "# TODO: your code here\n",
    "p = p.flatten()\n",
    "u = u.flatten()\n",
    "\n",
    "objective = p @ (u+c)\n",
    "constraints = [\n",
    "    q[0] == q[T-1] + c[T-1], \n",
    "    q[1:] == q[:T-1] + c[:T-1],\n",
    "    u + c >= 0, \n",
    "    q >= 0, \n",
    "    q <= Q, \n",
    "    c >= -D, \n",
    "    c <= C,\n",
    "]\n",
    "problem = cp.Problem(cp.Minimize(objective), constraints)\n",
    "problem.solve()"
   ]
  },
  {
   "cell_type": "code",
   "execution_count": null,
   "metadata": {
    "pycharm": {
     "name": "#%%\n"
    }
   },
   "outputs": [],
   "source": [
    "# Plot the optimal u and q against c and p.\n",
    "plt.figure(2)\n",
    "ts = np.linspace(1, T, num=T).reshape(T, 1) / 4\n",
    "plt.subplot(3, 1, 1)\n",
    "plt.plot(ts, u, \"r\")\n",
    "plt.plot(ts, c.value, \"b\")\n",
    "plt.xlabel(\"t\")\n",
    "plt.ylabel(\"uc\")\n",
    "plt.legend([\"u\", \"c\"])\n",
    "plt.subplot(3, 1, 2)\n",
    "plt.plot(ts, p, \"b\")\n",
    "plt.xlabel(\"t\")\n",
    "plt.ylabel(\"pt\")\n",
    "plt.subplot(3, 1, 3)\n",
    "plt.plot(ts, q.value, \"b\")\n",
    "plt.xlabel(\"t\")\n",
    "plt.ylabel(\"qt\")\n",
    "plt.ylim((0, 40))"
   ]
  },
  {
   "cell_type": "markdown",
   "metadata": {
    "pycharm": {
     "name": "#%% md\n"
    }
   },
   "source": [
    "## (c) Storage trade-offs\n",
    "\n",
    "Plot the minimum total cost versus the storage capacity $Q$, using $p$ and\n",
    "$u$ below, and charge/discharge limits $C = D = 3$. Repeat for\n",
    "charge/discharge limits $C = D = 1$. (Put these two trade-off curves on the same plot.) Give\n",
    "an interpretation of the endpoints of the trade-off curves."
   ]
  },
  {
   "cell_type": "markdown",
   "metadata": {},
   "source": [
    "The curve for $C = D = 3$ has a lower cost at the end because it is able to store more per timestep and thus reduce the costs."
   ]
  },
  {
   "cell_type": "code",
   "execution_count": null,
   "metadata": {
    "pycharm": {
     "name": "#%%\n"
    }
   },
   "outputs": [],
   "source": [
    "# Plot the tradeoff curves\n",
    "N = 31\n",
    "Qs = np.linspace(0, 150, num=N)\n",
    "\n",
    "q = cp.Variable(T)\n",
    "c = cp.Variable(T)\n",
    "Q = cp.Parameter()\n",
    "C, D = cp.Parameter(), cp.Parameter()\n",
    "# TODO: your code here\n",
    "objective = p @ (u+c)\n",
    "constraints = [\n",
    "    q[0] == q[T-1] + c[T-1], \n",
    "    q[1:] == q[:T-1] + c[:T-1],\n",
    "    u + c >= 0, \n",
    "    q >= 0, \n",
    "    q <= Q, \n",
    "    c >= -D, \n",
    "    c <= C,\n",
    "]\n",
    "prob = cp.Problem(cp.Minimize(objective), constraints)\n",
    "\n",
    "C.value = 1\n",
    "D.value = 1\n",
    "cost1 = np.zeros((N, 1))\n",
    "\n",
    "for i in range(N):\n",
    "    Q.value = Qs[i]\n",
    "    cost1[i] = prob.solve()\n",
    "\n",
    "C.value = 3\n",
    "D.value = 3\n",
    "cost2 = np.zeros((N, 1))\n",
    "for i in range(N):\n",
    "    Q.value = Qs[i]\n",
    "    cost2[i] = prob.solve()\n",
    "\n",
    "plt.figure(3)\n",
    "plt.plot(Qs, cost2, \"g--\", label=\"C = D = 3\")\n",
    "plt.plot(Qs, cost1, \"b.-\", label=\"C = D = 1\")\n",
    "plt.xlabel(\"Q\")\n",
    "plt.ylabel(\"cost\")\n",
    "plt.legend()\n",
    "plt.show()"
   ]
  },
  {
   "cell_type": "code",
   "execution_count": null,
   "metadata": {},
   "outputs": [],
   "source": [
    "for q1, c1, c2 in zip(Qs, cost1, cost2):\n",
    "    print(f\"{q1:.8f}\",c1,c2)"
   ]
  }
 ],
 "metadata": {
  "kernelspec": {
   "display_name": "Python 3.9.10 ('venv': venv)",
   "language": "python",
   "name": "python3"
  },
  "language_info": {
   "codemirror_mode": {
    "name": "ipython",
    "version": 3
   },
   "file_extension": ".py",
   "mimetype": "text/x-python",
   "name": "python",
   "nbconvert_exporter": "python",
   "pygments_lexer": "ipython3",
   "version": "3.9.10"
  },
  "vscode": {
   "interpreter": {
    "hash": "290757e21fec9bf29b9094cc6c4ade150c814607d0328de78853b03babf51af7"
   }
  }
 },
 "nbformat": 4,
 "nbformat_minor": 1
}
