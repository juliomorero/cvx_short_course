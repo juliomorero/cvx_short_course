{
 "cells": [
  {
   "cell_type": "markdown",
   "metadata": {
    "pycharm": {
     "name": "#%% md\n"
    }
   },
   "source": [
    "# DCP analysis\n",
    "\n",
    "In this exercise, you will fix optimization problems that break the DCP rules by identifying the DCP error and then rewriting the problem."
   ]
  },
  {
   "cell_type": "code",
   "execution_count": null,
   "metadata": {
    "pycharm": {
     "name": "#%%\n"
    }
   },
   "outputs": [],
   "source": [
    "# Problem 1.\n",
    "import cvxpy as cp\n",
    "\n",
    "x = cp.Variable()\n",
    "cost = (x**2 + 1) ** 0.5\n",
    "prob = cp.Problem(cp.Minimize(cost))\n",
    "# prob.solve()\n",
    "\n",
    "# TODO explain why the problem isn't DCP and rewrite it to satisfy DCP.\n",
    "# sqrt is a concave function and the inner argument is neither increasing nor affine\n",
    "# a way to rewrite this is to use norm2\n",
    "\n",
    "\n",
    "cost = cp.norm(cp.hstack([x, 1]), 2)\n",
    "prob = cp.Problem(cp.Minimize(cost))\n",
    "prob.solve()\n"
   ]
  },
  {
   "cell_type": "code",
   "execution_count": null,
   "metadata": {
    "pycharm": {
     "name": "#%%\n"
    }
   },
   "outputs": [],
   "source": [
    "# Problem 2.\n",
    "import cvxpy as cp\n",
    "\n",
    "x = cp.Variable()\n",
    "prob = cp.Problem(cp.Minimize(x + 2), [5 == 2 * cp.inv_pos(x)])\n",
    "\n",
    "# TODO explain why the problem isn't DCP and rewrite it to satisfy DCP.\n",
    "# when a constraint has an equal sign both sides must be affine but in \n",
    "# this case the right side is convex so multiplying by x on both sides \n",
    "# works fine\n",
    "prob = cp.Problem(cp.Minimize(x + 2), [5 * x == 2])\n",
    "prob.solve(), x.value"
   ]
  },
  {
   "cell_type": "code",
   "execution_count": null,
   "metadata": {
    "pycharm": {
     "name": "#%%\n"
    }
   },
   "outputs": [],
   "source": [
    "# Problem 3.\n",
    "import cvxpy as cp\n",
    "\n",
    "x = cp.Variable()\n",
    "prob = cp.Problem(cp.Minimize(x + 2), [5 <= 2 * x**-2])\n",
    "\n",
    "# TODO explain why the problem isn't DCP and rewrite it to satisfy DCP.\n",
    "# the right side of the constraint is undefined on zero so multiplying\n",
    "# by x^2 on both sides works fine\n",
    "\n",
    "prob = cp.Problem(cp.Minimize(x + 2), [5 * x**2 <= 2])\n",
    "prob.solve(), x.value"
   ]
  },
  {
   "cell_type": "code",
   "execution_count": null,
   "metadata": {
    "pycharm": {
     "name": "#%%\n"
    }
   },
   "outputs": [],
   "source": [
    "# Problem 4.\n",
    "import cvxpy as cp\n",
    "\n",
    "x = cp.Variable()\n",
    "y = cp.Variable()\n",
    "prob = cp.Problem(cp.Minimize(cp.pos(x)), [0 <= cp.quad_over_lin(x, y), y >= 1])\n",
    "\n",
    "# TODO explain why the problem isn't DCP and rewrite it to satisfy DCP.\n",
    "prob = cp.Problem(cp.Minimize(cp.pos(x)), [0 >= cp.quad_over_lin(x, y), y >= 1])\n",
    "# prob = cp.Problem(cp.Minimize(cp.pos(x)), [0 >= cp.power(x,2)])\n",
    "prob.solve(), x.value, y.value\n"
   ]
  },
  {
   "cell_type": "code",
   "execution_count": null,
   "metadata": {
    "pycharm": {
     "name": "#%%\n"
    }
   },
   "outputs": [],
   "source": [
    "# Problem 5.\n",
    "import cvxpy as cp\n",
    "\n",
    "x = cp.Variable()\n",
    "prob = cp.Problem(cp.Minimize(x + 2), [cp.exp(2 * x) + cp.exp(3 * x) <= cp.exp(5 * x)])\n",
    "\n",
    "# TODO explain why the problem isn't DCP and rewrite it to satisfy DCP.\n",
    "# convex functions on boths sides of inequality, by appling log to both sides left \n",
    "# side remains convex and right side is now affine\n",
    "prob = cp.Problem(cp.Minimize(x + 2), [cp.log_sum_exp(cp.hstack([2 * x, 3 * x])) <= 5 * x])\n",
    "prob.solve()\n"
   ]
  },
  {
   "cell_type": "code",
   "execution_count": null,
   "metadata": {
    "pycharm": {
     "name": "#%%\n"
    }
   },
   "outputs": [],
   "source": [
    "# Bonus problem. Do this for extra credit.\n",
    "import cvxpy as cp\n",
    "import numpy as np\n",
    "\n",
    "x = cp.Variable()\n",
    "prob = cp.Problem(cp.Maximize(-((cp.maximum(x, 4) - 3) ** 2)), [x >= 1])\n",
    "\n",
    "# TODO explain why the problem isn't DCP and rewrite it to satisfy DCP.\n",
    "# The sign is unknown after subtracting 3, so pushing that \n",
    "# inside the maximum guarantees that is positive\n",
    "prob = cp.Problem(cp.Maximize(-((cp.maximum(x - 3, 1)) ** 2)), [x >= 1])\n",
    "prob.solve(), x.value"
   ]
  },
  {
   "cell_type": "code",
   "execution_count": null,
   "metadata": {
    "pycharm": {
     "name": "#%%\n"
    }
   },
   "outputs": [],
   "source": [
    "# Bonus problem. Do this for extra credit.\n",
    "# This is a real problem from the CVXPY forum.\n",
    "import cvxpy as cp\n",
    "import numpy as np\n",
    "\n",
    "m = 10\n",
    "np.random.seed(1)\n",
    "c = np.random.randn(m, 1)\n",
    "c = np.abs(c)  # Important: This is nonnegative.\n",
    "u = np.random.randn(m, 1)\n",
    "u = np.abs(u)  # Important: This is nonnegative.\n",
    "\n",
    "x = cp.Variable(m)\n",
    "cost = sum([c[i] * x[i] * cp.inv_pos(u[i] - x[i]) for i in range(m)])\n",
    "\n",
    "# TODO explain why the problem isn't DCP and rewrite it to satisfy DCP.\n",
    "# DCP only handles multiplications of a function with a constant so multiplying x and 1/x won't work\n",
    "# by doing some math it's possible to reorder the terms and have a single x\n",
    "\n",
    "# cost = sum([-c[i] * ( 1 + u[i] * cp.inv_pos(x[i] - u[i])) for i in range(m)])\n",
    "cost = sum([c[i] * (u[i] * cp.inv_pos(u[i] - x[i]) - 1) for i in range(m)])\n",
    "\n",
    "prob = cp.Problem(cp.Minimize(cost))\n",
    "prob.solve(), x.value"
   ]
  }
 ],
 "metadata": {
  "kernelspec": {
   "display_name": "Python 3.9.10 ('venv': venv)",
   "language": "python",
   "name": "python3"
  },
  "language_info": {
   "codemirror_mode": {
    "name": "ipython",
    "version": 3
   },
   "file_extension": ".py",
   "mimetype": "text/x-python",
   "name": "python",
   "nbconvert_exporter": "python",
   "pygments_lexer": "ipython3",
   "version": "3.9.10"
  },
  "vscode": {
   "interpreter": {
    "hash": "290757e21fec9bf29b9094cc6c4ade150c814607d0328de78853b03babf51af7"
   }
  }
 },
 "nbformat": 4,
 "nbformat_minor": 1
}
