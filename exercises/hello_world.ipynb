{
 "cells": [
  {
   "cell_type": "markdown",
   "metadata": {
    "pycharm": {
     "name": "#%% md\n"
    }
   },
   "source": [
    "# Hello, world!\n",
    "\n",
    "Solve the following optimization problem using CVXPY:\n",
    "\n",
    "\\begin{array}{ll} \\text{minimize} & |x| - 2\\sqrt{y}\\\\\n",
    "\\text{subject to} & 2 \\geq e^x \\\\\n",
    "& x + y = 5,\n",
    "\\end{array}\n",
    "\n",
    "where $x,y \\in \\mathbf{R}$ are variables.\n",
    "\n",
    "Find the optimal values of $x$ and $y$.\n"
   ]
  },
  {
   "cell_type": "code",
   "execution_count": null,
   "metadata": {
    "collapsed": true,
    "pycharm": {
     "name": "#%%\n"
    }
   },
   "outputs": [],
   "source": [
    "# TODO: your code here.\n",
    "import cvxpy as cp\n",
    "\n",
    "x, y = cp.Variable(shape=2)\n",
    "\n",
    "obj = cp.Minimize(cp.abs(x) - 2 * cp.sqrt(y))\n",
    "cons = [2 >= cp.exp(x), x + y == 5]\n",
    "prob = cp.Problem(obj, cons)\n",
    "prob.solve()\n"
   ]
  }
 ],
 "metadata": {
  "kernelspec": {
   "display_name": "Python 3.9.10 ('venv': venv)",
   "language": "python",
   "name": "python3"
  },
  "language_info": {
   "codemirror_mode": {
    "name": "ipython",
    "version": 3
   },
   "file_extension": ".py",
   "mimetype": "text/x-python",
   "name": "python",
   "nbconvert_exporter": "python",
   "pygments_lexer": "ipython3",
   "version": "3.9.10"
  },
  "vscode": {
   "interpreter": {
    "hash": "290757e21fec9bf29b9094cc6c4ade150c814607d0328de78853b03babf51af7"
   }
  }
 },
 "nbformat": 4,
 "nbformat_minor": 1
}
